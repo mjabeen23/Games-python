{
  "nbformat": 4,
  "nbformat_minor": 0,
  "metadata": {
    "colab": {
      "name": "GuessTheNumber.ipynb",
      "private_outputs": true,
      "provenance": [],
      "collapsed_sections": []
    },
    "kernelspec": {
      "name": "python3",
      "display_name": "Python 3"
    },
    "language_info": {
      "name": "python"
    }
  },
  "cells": [
    {
      "cell_type": "code",
      "execution_count": null,
      "metadata": {
        "id": "9ytUDArZ1AZx"
      },
      "outputs": [],
      "source": [
        "import sys\n",
        "import random as r\n",
        "l=int(input(\"Enter the lower limit:\"))\n",
        "u=int(input(\"Enter the upper limit:\"))\n",
        "num=r.randint(l,u)\n",
        "i=r.randint(5,9)\n",
        "print(\"Guess the number generated in range from {} to {},you have {} chances.\".format(l,u,i))\n",
        "c=0\n",
        "while(i!=0):\n",
        "    u=int(input())\n",
        "    if(u==num):\n",
        "        print(\"Hurraaay you have guessed the number in {} chances!!!!!\".format(c+1))\n",
        "        sys.exit()\n",
        "    elif(u<num):\n",
        "        print(\"Try a bigger number.\")\n",
        "    else:\n",
        "        print(\"Try a smaller number\")\n",
        "    c+=1\n",
        "    i-=1\n",
        "\n",
        "print(\"Uh no!!!Your chances are over,the generated number was {}\".format(num))"
      ]
    },
    {
      "cell_type": "code",
      "source": [
        ""
      ],
      "metadata": {
        "id": "pUUz5IZU1Jen"
      },
      "execution_count": null,
      "outputs": []
    }
  ]
}