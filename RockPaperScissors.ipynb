{
  "nbformat": 4,
  "nbformat_minor": 0,
  "metadata": {
    "colab": {
      "name": "RockPaperScissors.ipynb",
      "private_outputs": true,
      "provenance": [],
      "collapsed_sections": []
    },
    "kernelspec": {
      "name": "python3",
      "display_name": "Python 3"
    },
    "language_info": {
      "name": "python"
    }
  },
  "cells": [
    {
      "cell_type": "code",
      "execution_count": null,
      "metadata": {
        "id": "gLI-zkQQCLsc"
      },
      "outputs": [],
      "source": [
        "import random\n",
        "l=[\"rock\",\"paper\",\"scissors\"]\n",
        "c1,u1=0,0\n",
        "while(True):\n",
        "  c=random.choice(l)\n",
        "  u=input(\"Enter your choice(rock,paper,scissors) or q to quit:\")\n",
        "  u=u.lower()\n",
        "  print(\"You chose {}, computer chose {}.\".format(u,c)) # Here u is user input and c is computer generated choice\n",
        "  if(u=='q'):\n",
        "    print(\"Ohh you chose to QUIT!!\")\n",
        "    print(\"You won {} times whereas computer won {} times.\".format(u1,c1))\n",
        "    break\n",
        "  elif(c==u):\n",
        "    print(\"It's a TIE!!\")\n",
        "  elif(u==\"rock\"):\n",
        "    if(c==\"paper\"):\n",
        "      print(\"You lose!!\")\n",
        "      c1+=1\n",
        "    elif(c==\"scissors\"):\n",
        "      print(\"You win!!\")\n",
        "      u1+=1\n",
        "  elif(u==\"paper\"):\n",
        "    if(c==\"rock\"):\n",
        "      print(\"You win!!\")\n",
        "      u1+=1\n",
        "    elif(c==\"scissors\"):\n",
        "      print(\"You lose!!\")\n",
        "      c1+=1\n",
        "  elif(u==\"scissors\"):\n",
        "    if(c==\"rock\"):\n",
        "      print(\"You lose!!\")\n",
        "      c1+=1\n",
        "    elif(c==\"paper\"):\n",
        "      print(\"You win!!\")\n",
        "      u1+=1\n",
        "  else:\n",
        "      print(\"Invalid choice--choose one from(rock,paper,scissors)\")"
      ]
    }
  ]
}